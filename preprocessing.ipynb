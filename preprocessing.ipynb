{
  "nbformat": 4,
  "nbformat_minor": 0,
  "metadata": {
    "colab": {
      "name": "preprocessing.ipynb",
      "provenance": [],
      "collapsed_sections": [],
      "mount_file_id": "1NpfA4PZ8GYp5R7BLLeHvvsYFnpXnI043",
      "authorship_tag": "ABX9TyP/TBEQKbdsFVpx9X0IIFLh",
      "include_colab_link": true
    },
    "kernelspec": {
      "name": "python3",
      "display_name": "Python 3"
    },
    "language_info": {
      "name": "python"
    }
  },
  "cells": [
    {
      "cell_type": "markdown",
      "metadata": {
        "id": "view-in-github",
        "colab_type": "text"
      },
      "source": [
        "<a href=\"https://colab.research.google.com/github/ysfArslan1/tf-idf/blob/main/preprocessing.ipynb\" target=\"_parent\"><img src=\"https://colab.research.google.com/assets/colab-badge.svg\" alt=\"Open In Colab\"/></a>"
      ]
    },
    {
      "cell_type": "code",
      "source": [
        "import nltk\n",
        "\n",
        "nltk.download('stopwords')"
      ],
      "metadata": {
        "colab": {
          "base_uri": "https://localhost:8080/"
        },
        "id": "HQPZz_H3RoTL",
        "outputId": "8e800e29-83a6-44dc-e272-b6f897c68a9f"
      },
      "execution_count": 52,
      "outputs": [
        {
          "output_type": "stream",
          "name": "stdout",
          "text": [
            "[nltk_data] Downloading package stopwords to /root/nltk_data...\n",
            "[nltk_data]   Package stopwords is already up-to-date!\n"
          ]
        },
        {
          "output_type": "execute_result",
          "data": {
            "text/plain": [
              "True"
            ]
          },
          "metadata": {},
          "execution_count": 52
        }
      ]
    },
    {
      "cell_type": "code",
      "execution_count": 53,
      "metadata": {
        "id": "QNWVH9n8Nd08",
        "colab": {
          "base_uri": "https://localhost:8080/"
        },
        "outputId": "a5be88e3-a595-4290-be49-ad13c0c081a4"
      },
      "outputs": [
        {
          "output_type": "stream",
          "name": "stdout",
          "text": [
            "12410\n"
          ]
        }
      ],
      "source": [
        "import os\n",
        "from nltk.corpus import stopwords\n",
        "import nltk\n",
        "import re\n",
        "import string\n",
        "import spacy\n",
        "\n",
        "\n",
        "stop_words =  set(stopwords.words('english'))\n",
        "stemmer = nltk.porter.PorterStemmer()#‘s’, ‘es’, ‘ed’, ‘ing’, ‘ly’\n",
        "nlp_spacy = spacy.load('en',parse=True,tag=True, entity=True)\n",
        "nlp = spacy.load('en_core_web_sm')\n",
        "#print(stop_words)\n",
        "\n",
        "path= \"/content/drive/MyDrive/kodlamalar/okul_projesi/nlp/Dataset/manuscripts/\"\n",
        "pdfler = os.listdir(path)\n",
        "veriler = []\n",
        "for pdf in pdfler:\n",
        "    try:\n",
        "        veri= {\n",
        "            \"isim\":\"\",\n",
        "        }\n",
        "        veri.update({\"isim\" : pdf})\n",
        "        dosya = open(path+pdf,\"r\")\n",
        "        for metin in dosya:\n",
        "            veri.update({\"metin\":metin})\n",
        "        \n",
        "        dosya.close()\n",
        "        veriler.append(veri)\n",
        "    except:\n",
        "        print( \"hata\")\n",
        "\n",
        "pdf_sayisi = len(veriler)\n",
        "#print(pdf_sayisi)\n",
        "\n",
        "last_word = []\n",
        "\n",
        "#print(dir(veriler[0][0]))\n",
        "for i in range(pdf_sayisi):\n",
        "    metin = veriler[i][\"metin\"]\n",
        "    metin = metin.lower()\n",
        "    metin = re.sub(r\"(@\\[A-Za-z0-9]+)|([^0-9A-Za-z \\t])|(\\w+:\\/\\/\\S+)|^rt|http.+?\", \" \", metin)\n",
        "    metin = re.sub(r'[^a-zA-z.,!?/:;\\\"\\'\\s]' , ' ', metin)\n",
        "    metin = ''.join([c for c in metin if c not in string.punctuation])\n",
        "    metin = ' '.join([stemmer.stem(word) for word in metin.split()])\n",
        "    #metin = nlp(metin)\n",
        "    #metin = ' '.join([word.lemma_ if word.lemma_ != '-PRON-' else word.metin for word in metin])\n",
        "    metin = metin.split(\" \")\n",
        "    not_stop_worlds =[]\n",
        "    for w in metin:\n",
        "        if w not in stop_words:\n",
        "            last_word.append(w)\n",
        "            not_stop_worlds.append(w)\n",
        "    \n",
        "    veriler[i].update({\"not_stop_worlds\":not_stop_worlds})\n",
        "\n",
        "uniqe_words = set(last_word)\n",
        "dict = dict.fromkeys(uniqe_words, 0)\n",
        "\n",
        "\n",
        "#print(dict)\n",
        "print(len(dict))\n"
      ]
    },
    {
      "cell_type": "code",
      "source": [
        "#print(veriler)"
      ],
      "metadata": {
        "id": "7sKBR9syUsXo"
      },
      "execution_count": 54,
      "outputs": []
    },
    {
      "cell_type": "code",
      "source": [
        "\n",
        "for i in range(pdf_sayisi):\n",
        "    dict_1 = dict\n",
        "    for word in veriler[i][\"not_stop_worlds\"]:\n",
        "        dict_1[word] += 1\n",
        "    veriler[i].update({\"world_count\":dict_1})\n"
      ],
      "metadata": {
        "id": "dSqnS9tkWOs4"
      },
      "execution_count": 55,
      "outputs": []
    },
    {
      "cell_type": "code",
      "source": [
        "#print(veriler[0])"
      ],
      "metadata": {
        "id": "NDFn1DnhW6TA"
      },
      "execution_count": 56,
      "outputs": []
    },
    {
      "cell_type": "code",
      "source": [
        "def computeTF(wordDict, bagOfWords):\n",
        "    tfDict = {}\n",
        "    bagOfWordsCount = len(bagOfWords)\n",
        "    for word, count in wordDict.items():\n",
        "        tfDict[word] = count / float(bagOfWordsCount)\n",
        "    return tfDict"
      ],
      "metadata": {
        "id": "Qw-QNQoCUSzD"
      },
      "execution_count": 57,
      "outputs": []
    },
    {
      "cell_type": "code",
      "source": [
        "for i in range(pdf_sayisi):\n",
        "    veri =computeTF(veriler[i][\"world_count\"],uniqe_words)\n",
        "    veriler[i].update({\"tf-idf\":veri})\n",
        "\n"
      ],
      "metadata": {
        "id": "ndEW4JckYu56"
      },
      "execution_count": 58,
      "outputs": []
    },
    {
      "cell_type": "code",
      "source": [
        "\n",
        "#print(veriler[i][\"tf-idf\"])"
      ],
      "metadata": {
        "id": "_mJ9pat5dDfu"
      },
      "execution_count": 59,
      "outputs": []
    },
    {
      "cell_type": "code",
      "source": [
        "for i in range(pdf_sayisi):\n",
        "    veriler[i].pop(\"metin\")"
      ],
      "metadata": {
        "id": "7v_8yQ5AfN0a"
      },
      "execution_count": 60,
      "outputs": []
    },
    {
      "cell_type": "code",
      "source": [
        "\"\"\"\n",
        "print(veriler[0][\"isim\"])\n",
        "print(veriler[0][\"not_stop_worlds\"])\n",
        "print(veriler[0][\"world_count\"])\n",
        "print(veriler[0][\"tf-idf\"])\n",
        "\"\"\""
      ],
      "metadata": {
        "colab": {
          "base_uri": "https://localhost:8080/",
          "height": 35
        },
        "id": "gubpg7MvfeNb",
        "outputId": "5faf120f-1679-4582-b165-98a9b8b5173c"
      },
      "execution_count": 61,
      "outputs": [
        {
          "output_type": "execute_result",
          "data": {
            "text/plain": [
              "'\\nprint(veriler[0][\"isim\"])\\nprint(veriler[0][\"not_stop_worlds\"])\\nprint(veriler[0][\"world_count\"])\\nprint(veriler[0][\"tf-idf\"])\\n'"
            ],
            "application/vnd.google.colaboratory.intrinsic+json": {
              "type": "string"
            }
          },
          "metadata": {},
          "execution_count": 61
        }
      ]
    },
    {
      "cell_type": "code",
      "source": [
        "def computeIDF(documents):\n",
        "    import math\n",
        "    N = len(documents)\n",
        "    \n",
        "    idfDict = dict.fromkeys(documents[0].keys(), 0)\n",
        "    for document in documents:\n",
        "        for word, val in document.items():\n",
        "            if val > 0:\n",
        "                idfDict[word] += 1\n",
        "    \n",
        "    for word, val in idfDict.items():\n",
        "        idfDict[word] = math.log(N / float(val))\n",
        "    return idfDict"
      ],
      "metadata": {
        "id": "qfr7cyvLgqS6"
      },
      "execution_count": 62,
      "outputs": []
    },
    {
      "cell_type": "code",
      "source": [
        "#idfs = computeIDF([numOfWordsA, numOfWordsB])"
      ],
      "metadata": {
        "id": "mzJNLKwwgtzu"
      },
      "execution_count": 63,
      "outputs": []
    },
    {
      "cell_type": "code",
      "source": [
        "gerekli_veri = []\n",
        "for i in range(pdf_sayisi):\n",
        "    gerekli_veri.append(veriler[i][\"world_count\"])"
      ],
      "metadata": {
        "id": "K06nqZ5Qg2uC"
      },
      "execution_count": 64,
      "outputs": []
    },
    {
      "cell_type": "code",
      "source": [
        "idfs = computeIDF(gerekli_veri)"
      ],
      "metadata": {
        "id": "W46u3aajhLAt"
      },
      "execution_count": 65,
      "outputs": []
    },
    {
      "cell_type": "code",
      "source": [
        "#print(idfs)"
      ],
      "metadata": {
        "id": "JmnJ8hVXhdKo"
      },
      "execution_count": 66,
      "outputs": []
    },
    {
      "cell_type": "code",
      "source": [
        "def computeTFIDF(tfBagOfWords, idfs):\n",
        "    tfidf = {}\n",
        "    for word, val in tfBagOfWords.items():\n",
        "        tfidf[word] = val * idfs[word]\n",
        "    return tfidf"
      ],
      "metadata": {
        "id": "R0RY2pWDjfex"
      },
      "execution_count": 67,
      "outputs": []
    },
    {
      "cell_type": "code",
      "source": [
        "\"\"\"\n",
        "tfidfA = computeTFIDF(tfA, idfs)\n",
        "tfidfB = computeTFIDF(tfB, idfs)\n",
        "df = pd.DataFrame([tfidfA, tfidfB])\n",
        "\"\"\""
      ],
      "metadata": {
        "id": "ef4gPEHwjjm0",
        "colab": {
          "base_uri": "https://localhost:8080/",
          "height": 35
        },
        "outputId": "1a6339a0-74cd-43e0-abe0-2bae7d9de4a0"
      },
      "execution_count": 68,
      "outputs": [
        {
          "output_type": "execute_result",
          "data": {
            "text/plain": [
              "'\\ntfidfA = computeTFIDF(tfA, idfs)\\ntfidfB = computeTFIDF(tfB, idfs)\\ndf = pd.DataFrame([tfidfA, tfidfB])\\n'"
            ],
            "application/vnd.google.colaboratory.intrinsic+json": {
              "type": "string"
            }
          },
          "metadata": {},
          "execution_count": 68
        }
      ]
    },
    {
      "cell_type": "code",
      "source": [
        "for i in range(pdf_sayisi):\n",
        "  deger = computeTFIDF(veriler[i][\"tf-idf\"], idfs)\n",
        "  veriler[i].update({\"tf-idf\":deger})"
      ],
      "metadata": {
        "id": "MfSlu3f8jmVY"
      },
      "execution_count": 69,
      "outputs": []
    },
    {
      "cell_type": "code",
      "source": [
        "db=[]\n",
        "for i in range(pdf_sayisi):\n",
        "  db.append(veriler[i][\"tf-idf\"])"
      ],
      "metadata": {
        "id": "dLiJn7_5k1NG"
      },
      "execution_count": 70,
      "outputs": []
    },
    {
      "cell_type": "code",
      "source": [
        "import pandas as pd\n",
        "df = pd.DataFrame(db)"
      ],
      "metadata": {
        "id": "MBDDDPvnlFuE"
      },
      "execution_count": 71,
      "outputs": []
    },
    {
      "cell_type": "code",
      "source": [
        "df.head()"
      ],
      "metadata": {
        "colab": {
          "base_uri": "https://localhost:8080/",
          "height": 300
        },
        "id": "g1UFV-H5laQr",
        "outputId": "7f35e884-cf24-4182-8ad4-431a63a32cf2"
      },
      "execution_count": 72,
      "outputs": [
        {
          "output_type": "execute_result",
          "data": {
            "text/plain": [
              "    le  willmoreenergi  oflinear  thedevelop  nonlinearelectromagnet  bodyha  \\\n",
              "0  0.0             0.0       0.0         0.0                     0.0     0.0   \n",
              "1  0.0             0.0       0.0         0.0                     0.0     0.0   \n",
              "2  0.0             0.0       0.0         0.0                     0.0     0.0   \n",
              "3  0.0             0.0       0.0         0.0                     0.0     0.0   \n",
              "4  0.0             0.0       0.0         0.0                     0.0     0.0   \n",
              "\n",
              "   direct  dray  theseresult  themechan  ...  hierarch  characteristiciniti  \\\n",
              "0     0.0   0.0          0.0        0.0  ...       0.0                  0.0   \n",
              "1     0.0   0.0          0.0        0.0  ...       0.0                  0.0   \n",
              "2     0.0   0.0          0.0        0.0  ...       0.0                  0.0   \n",
              "3     0.0   0.0          0.0        0.0  ...       0.0                  0.0   \n",
              "4     0.0   0.0          0.0        0.0  ...       0.0                  0.0   \n",
              "\n",
              "   pullback  thread  fieldin  andblack  therepres  gravitynear  wefurth  \\\n",
              "0       0.0     0.0      0.0       0.0        0.0          0.0      0.0   \n",
              "1       0.0     0.0      0.0       0.0        0.0          0.0      0.0   \n",
              "2       0.0     0.0      0.0       0.0        0.0          0.0      0.0   \n",
              "3       0.0     0.0      0.0       0.0        0.0          0.0      0.0   \n",
              "4       0.0     0.0      0.0       0.0        0.0          0.0      0.0   \n",
              "\n",
              "   modelfield  \n",
              "0         0.0  \n",
              "1         0.0  \n",
              "2         0.0  \n",
              "3         0.0  \n",
              "4         0.0  \n",
              "\n",
              "[5 rows x 12410 columns]"
            ],
            "text/html": [
              "\n",
              "  <div id=\"df-6ddc6c7f-fd1e-457d-bbbe-b04bcd4f8f3e\">\n",
              "    <div class=\"colab-df-container\">\n",
              "      <div>\n",
              "<style scoped>\n",
              "    .dataframe tbody tr th:only-of-type {\n",
              "        vertical-align: middle;\n",
              "    }\n",
              "\n",
              "    .dataframe tbody tr th {\n",
              "        vertical-align: top;\n",
              "    }\n",
              "\n",
              "    .dataframe thead th {\n",
              "        text-align: right;\n",
              "    }\n",
              "</style>\n",
              "<table border=\"1\" class=\"dataframe\">\n",
              "  <thead>\n",
              "    <tr style=\"text-align: right;\">\n",
              "      <th></th>\n",
              "      <th>le</th>\n",
              "      <th>willmoreenergi</th>\n",
              "      <th>oflinear</th>\n",
              "      <th>thedevelop</th>\n",
              "      <th>nonlinearelectromagnet</th>\n",
              "      <th>bodyha</th>\n",
              "      <th>direct</th>\n",
              "      <th>dray</th>\n",
              "      <th>theseresult</th>\n",
              "      <th>themechan</th>\n",
              "      <th>...</th>\n",
              "      <th>hierarch</th>\n",
              "      <th>characteristiciniti</th>\n",
              "      <th>pullback</th>\n",
              "      <th>thread</th>\n",
              "      <th>fieldin</th>\n",
              "      <th>andblack</th>\n",
              "      <th>therepres</th>\n",
              "      <th>gravitynear</th>\n",
              "      <th>wefurth</th>\n",
              "      <th>modelfield</th>\n",
              "    </tr>\n",
              "  </thead>\n",
              "  <tbody>\n",
              "    <tr>\n",
              "      <th>0</th>\n",
              "      <td>0.0</td>\n",
              "      <td>0.0</td>\n",
              "      <td>0.0</td>\n",
              "      <td>0.0</td>\n",
              "      <td>0.0</td>\n",
              "      <td>0.0</td>\n",
              "      <td>0.0</td>\n",
              "      <td>0.0</td>\n",
              "      <td>0.0</td>\n",
              "      <td>0.0</td>\n",
              "      <td>...</td>\n",
              "      <td>0.0</td>\n",
              "      <td>0.0</td>\n",
              "      <td>0.0</td>\n",
              "      <td>0.0</td>\n",
              "      <td>0.0</td>\n",
              "      <td>0.0</td>\n",
              "      <td>0.0</td>\n",
              "      <td>0.0</td>\n",
              "      <td>0.0</td>\n",
              "      <td>0.0</td>\n",
              "    </tr>\n",
              "    <tr>\n",
              "      <th>1</th>\n",
              "      <td>0.0</td>\n",
              "      <td>0.0</td>\n",
              "      <td>0.0</td>\n",
              "      <td>0.0</td>\n",
              "      <td>0.0</td>\n",
              "      <td>0.0</td>\n",
              "      <td>0.0</td>\n",
              "      <td>0.0</td>\n",
              "      <td>0.0</td>\n",
              "      <td>0.0</td>\n",
              "      <td>...</td>\n",
              "      <td>0.0</td>\n",
              "      <td>0.0</td>\n",
              "      <td>0.0</td>\n",
              "      <td>0.0</td>\n",
              "      <td>0.0</td>\n",
              "      <td>0.0</td>\n",
              "      <td>0.0</td>\n",
              "      <td>0.0</td>\n",
              "      <td>0.0</td>\n",
              "      <td>0.0</td>\n",
              "    </tr>\n",
              "    <tr>\n",
              "      <th>2</th>\n",
              "      <td>0.0</td>\n",
              "      <td>0.0</td>\n",
              "      <td>0.0</td>\n",
              "      <td>0.0</td>\n",
              "      <td>0.0</td>\n",
              "      <td>0.0</td>\n",
              "      <td>0.0</td>\n",
              "      <td>0.0</td>\n",
              "      <td>0.0</td>\n",
              "      <td>0.0</td>\n",
              "      <td>...</td>\n",
              "      <td>0.0</td>\n",
              "      <td>0.0</td>\n",
              "      <td>0.0</td>\n",
              "      <td>0.0</td>\n",
              "      <td>0.0</td>\n",
              "      <td>0.0</td>\n",
              "      <td>0.0</td>\n",
              "      <td>0.0</td>\n",
              "      <td>0.0</td>\n",
              "      <td>0.0</td>\n",
              "    </tr>\n",
              "    <tr>\n",
              "      <th>3</th>\n",
              "      <td>0.0</td>\n",
              "      <td>0.0</td>\n",
              "      <td>0.0</td>\n",
              "      <td>0.0</td>\n",
              "      <td>0.0</td>\n",
              "      <td>0.0</td>\n",
              "      <td>0.0</td>\n",
              "      <td>0.0</td>\n",
              "      <td>0.0</td>\n",
              "      <td>0.0</td>\n",
              "      <td>...</td>\n",
              "      <td>0.0</td>\n",
              "      <td>0.0</td>\n",
              "      <td>0.0</td>\n",
              "      <td>0.0</td>\n",
              "      <td>0.0</td>\n",
              "      <td>0.0</td>\n",
              "      <td>0.0</td>\n",
              "      <td>0.0</td>\n",
              "      <td>0.0</td>\n",
              "      <td>0.0</td>\n",
              "    </tr>\n",
              "    <tr>\n",
              "      <th>4</th>\n",
              "      <td>0.0</td>\n",
              "      <td>0.0</td>\n",
              "      <td>0.0</td>\n",
              "      <td>0.0</td>\n",
              "      <td>0.0</td>\n",
              "      <td>0.0</td>\n",
              "      <td>0.0</td>\n",
              "      <td>0.0</td>\n",
              "      <td>0.0</td>\n",
              "      <td>0.0</td>\n",
              "      <td>...</td>\n",
              "      <td>0.0</td>\n",
              "      <td>0.0</td>\n",
              "      <td>0.0</td>\n",
              "      <td>0.0</td>\n",
              "      <td>0.0</td>\n",
              "      <td>0.0</td>\n",
              "      <td>0.0</td>\n",
              "      <td>0.0</td>\n",
              "      <td>0.0</td>\n",
              "      <td>0.0</td>\n",
              "    </tr>\n",
              "  </tbody>\n",
              "</table>\n",
              "<p>5 rows × 12410 columns</p>\n",
              "</div>\n",
              "      <button class=\"colab-df-convert\" onclick=\"convertToInteractive('df-6ddc6c7f-fd1e-457d-bbbe-b04bcd4f8f3e')\"\n",
              "              title=\"Convert this dataframe to an interactive table.\"\n",
              "              style=\"display:none;\">\n",
              "        \n",
              "  <svg xmlns=\"http://www.w3.org/2000/svg\" height=\"24px\"viewBox=\"0 0 24 24\"\n",
              "       width=\"24px\">\n",
              "    <path d=\"M0 0h24v24H0V0z\" fill=\"none\"/>\n",
              "    <path d=\"M18.56 5.44l.94 2.06.94-2.06 2.06-.94-2.06-.94-.94-2.06-.94 2.06-2.06.94zm-11 1L8.5 8.5l.94-2.06 2.06-.94-2.06-.94L8.5 2.5l-.94 2.06-2.06.94zm10 10l.94 2.06.94-2.06 2.06-.94-2.06-.94-.94-2.06-.94 2.06-2.06.94z\"/><path d=\"M17.41 7.96l-1.37-1.37c-.4-.4-.92-.59-1.43-.59-.52 0-1.04.2-1.43.59L10.3 9.45l-7.72 7.72c-.78.78-.78 2.05 0 2.83L4 21.41c.39.39.9.59 1.41.59.51 0 1.02-.2 1.41-.59l7.78-7.78 2.81-2.81c.8-.78.8-2.07 0-2.86zM5.41 20L4 18.59l7.72-7.72 1.47 1.35L5.41 20z\"/>\n",
              "  </svg>\n",
              "      </button>\n",
              "      \n",
              "  <style>\n",
              "    .colab-df-container {\n",
              "      display:flex;\n",
              "      flex-wrap:wrap;\n",
              "      gap: 12px;\n",
              "    }\n",
              "\n",
              "    .colab-df-convert {\n",
              "      background-color: #E8F0FE;\n",
              "      border: none;\n",
              "      border-radius: 50%;\n",
              "      cursor: pointer;\n",
              "      display: none;\n",
              "      fill: #1967D2;\n",
              "      height: 32px;\n",
              "      padding: 0 0 0 0;\n",
              "      width: 32px;\n",
              "    }\n",
              "\n",
              "    .colab-df-convert:hover {\n",
              "      background-color: #E2EBFA;\n",
              "      box-shadow: 0px 1px 2px rgba(60, 64, 67, 0.3), 0px 1px 3px 1px rgba(60, 64, 67, 0.15);\n",
              "      fill: #174EA6;\n",
              "    }\n",
              "\n",
              "    [theme=dark] .colab-df-convert {\n",
              "      background-color: #3B4455;\n",
              "      fill: #D2E3FC;\n",
              "    }\n",
              "\n",
              "    [theme=dark] .colab-df-convert:hover {\n",
              "      background-color: #434B5C;\n",
              "      box-shadow: 0px 1px 3px 1px rgba(0, 0, 0, 0.15);\n",
              "      filter: drop-shadow(0px 1px 2px rgba(0, 0, 0, 0.3));\n",
              "      fill: #FFFFFF;\n",
              "    }\n",
              "  </style>\n",
              "\n",
              "      <script>\n",
              "        const buttonEl =\n",
              "          document.querySelector('#df-6ddc6c7f-fd1e-457d-bbbe-b04bcd4f8f3e button.colab-df-convert');\n",
              "        buttonEl.style.display =\n",
              "          google.colab.kernel.accessAllowed ? 'block' : 'none';\n",
              "\n",
              "        async function convertToInteractive(key) {\n",
              "          const element = document.querySelector('#df-6ddc6c7f-fd1e-457d-bbbe-b04bcd4f8f3e');\n",
              "          const dataTable =\n",
              "            await google.colab.kernel.invokeFunction('convertToInteractive',\n",
              "                                                     [key], {});\n",
              "          if (!dataTable) return;\n",
              "\n",
              "          const docLinkHtml = 'Like what you see? Visit the ' +\n",
              "            '<a target=\"_blank\" href=https://colab.research.google.com/notebooks/data_table.ipynb>data table notebook</a>'\n",
              "            + ' to learn more about interactive tables.';\n",
              "          element.innerHTML = '';\n",
              "          dataTable['output_type'] = 'display_data';\n",
              "          await google.colab.output.renderOutput(dataTable, element);\n",
              "          const docLink = document.createElement('div');\n",
              "          docLink.innerHTML = docLinkHtml;\n",
              "          element.appendChild(docLink);\n",
              "        }\n",
              "      </script>\n",
              "    </div>\n",
              "  </div>\n",
              "  "
            ]
          },
          "metadata": {},
          "execution_count": 72
        }
      ]
    },
    {
      "cell_type": "code",
      "source": [
        "import numpy as np\n",
        "import pandas as pd\n",
        "import os\n",
        "from sklearn.feature_extraction.text import TfidfVectorizer\n",
        "import pandas as pd\n",
        "import numpy as np\n",
        "import nltk\n",
        "from nltk.corpus import stopwords\n",
        "from nltk.stem import SnowballStemmer\n",
        "import re\n",
        "# from gensim import utils\n",
        "# from gensim.models.doc2vec import LabeledSentence\n",
        "# from gensim.models import Doc2Vec\n",
        "from sklearn.metrics.pairwise import cosine_similarity\n",
        "from sklearn.feature_extraction.text import TfidfVectorizer\n",
        "from sklearn.metrics import accuracy_score\n",
        "from sklearn.metrics import confusion_matrix\n",
        "from sklearn.metrics import classification_report\n",
        "import matplotlib.pyplot as plt\n",
        "import os\n",
        "nltk.download('stopwords')"
      ],
      "metadata": {
        "colab": {
          "base_uri": "https://localhost:8080/"
        },
        "id": "WtWnM3FeIAHQ",
        "outputId": "3f211e89-0039-4fd4-b49b-f3d33fb51a17"
      },
      "execution_count": 73,
      "outputs": [
        {
          "output_type": "stream",
          "name": "stdout",
          "text": [
            "[nltk_data] Downloading package stopwords to /root/nltk_data...\n",
            "[nltk_data]   Package stopwords is already up-to-date!\n"
          ]
        },
        {
          "output_type": "execute_result",
          "data": {
            "text/plain": [
              "True"
            ]
          },
          "metadata": {},
          "execution_count": 73
        }
      ]
    },
    {
      "cell_type": "code",
      "source": [
        "\n",
        "\n",
        "stop_words =  set(stopwords.words('english'))\n",
        "stemmer = nltk.porter.PorterStemmer()\n",
        "def review_to_wordlist(review, remove_stopwords=True):\n",
        "    # Clean the text, with the option to remove stopwords.\n",
        "    \n",
        "    # Convert words to lower case and split them\n",
        "    words = review.lower().split()\n",
        "\n",
        "    # Optionally remove stop words (true by default)\n",
        "    if remove_stopwords:\n",
        "        stops = set(stopwords.words(\"english\"))\n",
        "        words = [w for w in words if not w in stops]\n",
        "    \n",
        "    review_text = \" \".join(words)\n",
        "\n",
        "    # Clean the text\n",
        "    review_text = re.sub(r\"[^A-Za-z0-9(),!.?\\'\\`]\", \" \", review_text)\n",
        "    review_text = re.sub(r\"\\'s\", \" 's \", review_text)\n",
        "    review_text = re.sub(r\"\\'ve\", \" 've \", review_text)\n",
        "    review_text = re.sub(r\"n\\'t\", \" 't \", review_text)\n",
        "    review_text = re.sub(r\"\\'re\", \" 're \", review_text)\n",
        "    review_text = re.sub(r\"\\'d\", \" 'd \", review_text)\n",
        "    review_text = re.sub(r\"\\'ll\", \" 'll \", review_text)\n",
        "    review_text = re.sub(r\",\", \" \", review_text)\n",
        "    review_text = re.sub(r\"\\.\", \" \", review_text)\n",
        "    review_text = re.sub(r\"!\", \" \", review_text)\n",
        "    review_text = re.sub(r\"\\(\", \" ( \", review_text)\n",
        "    review_text = re.sub(r\"\\)\", \" ) \", review_text)\n",
        "    review_text = re.sub(r\"\\?\", \" \", review_text)\n",
        "    review_text = re.sub(r\"\\s{2,}\", \" \", review_text)\n",
        "    \n",
        "    words = review_text.split()\n",
        "    \n",
        "    # Shorten words to their stems\n",
        "    stemmer = SnowballStemmer('english')\n",
        "    stemmed_words = [stemmer.stem(word) for word in words]\n",
        "    \n",
        "    review_text = \" \".join(stemmed_words)\n",
        "    \n",
        "    # Return a list of words\n",
        "    return(review_text)\n",
        "\n",
        "def make_data(path):\n",
        "  veriler = []\n",
        "  pdfler = os.listdir(path)\n",
        "  for pdf in pdfler:\n",
        "    try:\n",
        "        veri= {\n",
        "            \"isim\":\"\",\n",
        "        }\n",
        "        veri.update({\"isim\" : pdf})\n",
        "        dosya = open(path+pdf,\"r\")\n",
        "        for metin in dosya:\n",
        "            veri.update({\"metin\":metin})\n",
        "        \n",
        "        dosya.close()\n",
        "        veriler.append(veri)\n",
        "    except:\n",
        "        print( \"hata\")\n",
        "  return veriler\n",
        "\n",
        "listpath_manu= \"/content/drive/MyDrive/kodlamalar/okul_projesi/nlp/Dataset/manuscripts/\"\n",
        "manuscripts_veriler=make_data(listpath_manu)\n",
        "for i in range(len(manuscripts_veriler)):\n",
        "  metin = manuscripts_veriler[i][\"metin\"]\n",
        "  metin = review_to_wordlist(metin,True)\n",
        "  manuscripts_veriler[i].update({\"metin\":metin})\n",
        "\n",
        "data_menu=[]\n",
        "for i in range(len(manuscripts_veriler)):\n",
        "    data_menu.append(manuscripts_veriler[i][\"metin\"])\n",
        "\n",
        "tfvec = TfidfVectorizer()\n",
        "tdf = tfvec.fit_transform(data_menu)\n",
        "bow_menu = pd.DataFrame(tdf.toarray(), columns = tfvec.get_feature_names())\n",
        "print(bow_menu)\n",
        "\n",
        "listpath_reviewers= \"/content/drive/MyDrive/kodlamalar/okul_projesi/nlp/Dataset/reviewers/\"\n",
        "reviewers_veriler=make_data(listpath_reviewers)\n",
        "for i in range(len(reviewers_veriler)):\n",
        "  metin = reviewers_veriler[i][\"metin\"]\n",
        "  metin = review_to_wordlist(metin,True)\n",
        "  reviewers_veriler[i].update({\"metin\":metin})\n",
        "\n",
        "data_reviewers=[]\n",
        "for i in range(len(reviewers_veriler)):\n",
        "    data_reviewers.append(reviewers_veriler[i][\"metin\"])\n",
        "\n",
        "tfvec = TfidfVectorizer()\n",
        "tdf = tfvec.fit_transform(data_reviewers)\n",
        "bow_reviewers = pd.DataFrame(tdf.toarray(), columns = tfvec.get_feature_names())\n",
        "print(bow_reviewers)"
      ],
      "metadata": {
        "colab": {
          "base_uri": "https://localhost:8080/"
        },
        "id": "np3JfYHJmYSq",
        "outputId": "a3311fbe-f27b-4190-a6c8-20a0c55094f4"
      },
      "execution_count": 74,
      "outputs": [
        {
          "output_type": "stream",
          "name": "stderr",
          "text": [
            "/usr/local/lib/python3.7/dist-packages/sklearn/utils/deprecation.py:87: FutureWarning: Function get_feature_names is deprecated; get_feature_names is deprecated in 1.0 and will be removed in 1.2. Please use get_feature_names_out instead.\n",
            "  warnings.warn(msg, category=FutureWarning)\n"
          ]
        },
        {
          "output_type": "stream",
          "name": "stdout",
          "text": [
            "      00  0002  0009  002  0025  003  0034  01130  01296  01337  ...  zeroth  \\\n",
            "0    0.0   0.0   0.0  0.0   0.0  0.0   0.0    0.0    0.0    0.0  ...     0.0   \n",
            "1    0.0   0.0   0.0  0.0   0.0  0.0   0.0    0.0    0.0    0.0  ...     0.0   \n",
            "2    0.0   0.0   0.0  0.0   0.0  0.0   0.0    0.0    0.0    0.0  ...     0.0   \n",
            "3    0.0   0.0   0.0  0.0   0.0  0.0   0.0    0.0    0.0    0.0  ...     0.0   \n",
            "4    0.0   0.0   0.0  0.0   0.0  0.0   0.0    0.0    0.0    0.0  ...     0.0   \n",
            "..   ...   ...   ...  ...   ...  ...   ...    ...    ...    ...  ...     ...   \n",
            "700  0.0   0.0   0.0  0.0   0.0  0.0   0.0    0.0    0.0    0.0  ...     0.0   \n",
            "701  0.0   0.0   0.0  0.0   0.0  0.0   0.0    0.0    0.0    0.0  ...     0.0   \n",
            "702  0.0   0.0   0.0  0.0   0.0  0.0   0.0    0.0    0.0    0.0  ...     0.0   \n",
            "703  0.0   0.0   0.0  0.0   0.0  0.0   0.0    0.0    0.0    0.0  ...     0.0   \n",
            "704  0.0   0.0   0.0  0.0   0.0  0.0   0.0    0.0    0.0    0.0  ...     0.0   \n",
            "\n",
            "     zerovalu  zeta  zinkernagel  zitterbewegung  zone  zonefield  zumino  \\\n",
            "0         0.0   0.0          0.0             0.0   0.0        0.0     0.0   \n",
            "1         0.0   0.0          0.0             0.0   0.0        0.0     0.0   \n",
            "2         0.0   0.0          0.0             0.0   0.0        0.0     0.0   \n",
            "3         0.0   0.0          0.0             0.0   0.0        0.0     0.0   \n",
            "4         0.0   0.0          0.0             0.0   0.0        0.0     0.0   \n",
            "..        ...   ...          ...             ...   ...        ...     ...   \n",
            "700       0.0   0.0          0.0             0.0   0.0        0.0     0.0   \n",
            "701       0.0   0.0          0.0             0.0   0.0        0.0     0.0   \n",
            "702       0.0   0.0          0.0             0.0   0.0        0.0     0.0   \n",
            "703       0.0   0.0          0.0             0.0   0.0        0.0     0.0   \n",
            "704       0.0   0.0          0.0             0.0   0.0        0.0     0.0   \n",
            "\n",
            "     zurek   zz  \n",
            "0      0.0  0.0  \n",
            "1      0.0  0.0  \n",
            "2      0.0  0.0  \n",
            "3      0.0  0.0  \n",
            "4      0.0  0.0  \n",
            "..     ...  ...  \n",
            "700    0.0  0.0  \n",
            "701    0.0  0.0  \n",
            "702    0.0  0.0  \n",
            "703    0.0  0.0  \n",
            "704    0.0  0.0  \n",
            "\n",
            "[705 rows x 12806 columns]\n",
            "       00       000  00000017  000004  000027  00003  00004  00005  0001  \\\n",
            "0     0.0  0.000000       0.0     0.0     0.0    0.0    0.0    0.0   0.0   \n",
            "1     0.0  0.000000       0.0     0.0     0.0    0.0    0.0    0.0   0.0   \n",
            "2     0.0  0.000000       0.0     0.0     0.0    0.0    0.0    0.0   0.0   \n",
            "3     0.0  0.000000       0.0     0.0     0.0    0.0    0.0    0.0   0.0   \n",
            "4     0.0  0.000000       0.0     0.0     0.0    0.0    0.0    0.0   0.0   \n",
            "...   ...       ...       ...     ...     ...    ...    ...    ...   ...   \n",
            "1938  0.0  0.000000       0.0     0.0     0.0    0.0    0.0    0.0   0.0   \n",
            "1939  0.0  0.000000       0.0     0.0     0.0    0.0    0.0    0.0   0.0   \n",
            "1940  0.0  0.074592       0.0     0.0     0.0    0.0    0.0    0.0   0.0   \n",
            "1941  0.0  0.000000       0.0     0.0     0.0    0.0    0.0    0.0   0.0   \n",
            "1942  0.0  0.000000       0.0     0.0     0.0    0.0    0.0    0.0   0.0   \n",
            "\n",
            "      0002  ...  zrelat  zunivers  zurich   zw  zw1  zw1718  zwicki  \\\n",
            "0      0.0  ...     0.0       0.0     0.0  0.0  0.0     0.0     0.0   \n",
            "1      0.0  ...     0.0       0.0     0.0  0.0  0.0     0.0     0.0   \n",
            "2      0.0  ...     0.0       0.0     0.0  0.0  0.0     0.0     0.0   \n",
            "3      0.0  ...     0.0       0.0     0.0  0.0  0.0     0.0     0.0   \n",
            "4      0.0  ...     0.0       0.0     0.0  0.0  0.0     0.0     0.0   \n",
            "...    ...  ...     ...       ...     ...  ...  ...     ...     ...   \n",
            "1938   0.0  ...     0.0       0.0     0.0  0.0  0.0     0.0     0.0   \n",
            "1939   0.0  ...     0.0       0.0     0.0  0.0  0.0     0.0     0.0   \n",
            "1940   0.0  ...     0.0       0.0     0.0  0.0  0.0     0.0     0.0   \n",
            "1941   0.0  ...     0.0       0.0     0.0  0.0  0.0     0.0     0.0   \n",
            "1942   0.0  ...     0.0       0.0     0.0  0.0  0.0     0.0     0.0   \n",
            "\n",
            "      zwickymagnitud  zyjhk   zz  \n",
            "0                0.0    0.0  0.0  \n",
            "1                0.0    0.0  0.0  \n",
            "2                0.0    0.0  0.0  \n",
            "3                0.0    0.0  0.0  \n",
            "4                0.0    0.0  0.0  \n",
            "...              ...    ...  ...  \n",
            "1938             0.0    0.0  0.0  \n",
            "1939             0.0    0.0  0.0  \n",
            "1940             0.0    0.0  0.0  \n",
            "1941             0.0    0.0  0.0  \n",
            "1942             0.0    0.0  0.0  \n",
            "\n",
            "[1943 rows x 23921 columns]\n"
          ]
        },
        {
          "output_type": "stream",
          "name": "stderr",
          "text": [
            "/usr/local/lib/python3.7/dist-packages/sklearn/utils/deprecation.py:87: FutureWarning: Function get_feature_names is deprecated; get_feature_names is deprecated in 1.0 and will be removed in 1.2. Please use get_feature_names_out instead.\n",
            "  warnings.warn(msg, category=FutureWarning)\n"
          ]
        }
      ]
    }
  ]
}