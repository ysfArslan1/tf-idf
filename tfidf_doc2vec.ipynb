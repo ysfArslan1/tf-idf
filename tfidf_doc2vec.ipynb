{
  "nbformat": 4,
  "nbformat_minor": 0,
  "metadata": {
    "colab": {
      "name": "tfidf-doc2vec.ipynb",
      "provenance": [],
      "collapsed_sections": [],
      "mount_file_id": "1N8ebQIHQncj2DlsDKEy6spzW0lCLQme0",
      "authorship_tag": "ABX9TyPPBSZpirALxE1ZIrQin6ST",
      "include_colab_link": true
    },
    "kernelspec": {
      "name": "python3",
      "display_name": "Python 3"
    },
    "language_info": {
      "name": "python"
    }
  },
  "cells": [
    {
      "cell_type": "markdown",
      "metadata": {
        "id": "view-in-github",
        "colab_type": "text"
      },
      "source": [
        "<a href=\"https://colab.research.google.com/github/ysfArslan1/tf-idf/blob/main/tfidf_doc2vec.ipynb\" target=\"_parent\"><img src=\"https://colab.research.google.com/assets/colab-badge.svg\" alt=\"Open In Colab\"/></a>"
      ]
    },
    {
      "cell_type": "code",
      "execution_count": 1,
      "metadata": {
        "id": "y3piPhD1VQ2-"
      },
      "outputs": [],
      "source": [
        "import pandas as pd\n",
        "import numpy as np\n",
        "import nltk\n",
        "from nltk.corpus import stopwords\n",
        "from nltk.stem import SnowballStemmer\n",
        "import re\n",
        "from gensim import utils\n",
        "from gensim.models.doc2vec import LabeledSentence\n",
        "from gensim.models import Doc2Vec\n",
        "from sklearn.metrics.pairwise import cosine_similarity\n",
        "from sklearn.feature_extraction.text import TfidfVectorizer\n",
        "from sklearn.metrics import accuracy_score\n",
        "from sklearn.metrics import confusion_matrix\n",
        "from sklearn.metrics import classification_report\n",
        "import matplotlib.pyplot as plt\n",
        "import os"
      ]
    },
    {
      "cell_type": "code",
      "source": [
        "nltk.download('stopwords')"
      ],
      "metadata": {
        "colab": {
          "base_uri": "https://localhost:8080/"
        },
        "id": "34VHiBX1fGkF",
        "outputId": "63e9317b-4d28-4d3a-c14d-7c205384d87b"
      },
      "execution_count": 2,
      "outputs": [
        {
          "output_type": "stream",
          "name": "stdout",
          "text": [
            "[nltk_data] Downloading package stopwords to /root/nltk_data...\n",
            "[nltk_data]   Unzipping corpora/stopwords.zip.\n"
          ]
        },
        {
          "output_type": "execute_result",
          "data": {
            "text/plain": [
              "True"
            ]
          },
          "metadata": {},
          "execution_count": 2
        }
      ]
    },
    {
      "cell_type": "code",
      "source": [
        "stop_words =  set(stopwords.words('english'))\n",
        "stemmer = nltk.porter.PorterStemmer()"
      ],
      "metadata": {
        "id": "O_p7V1qZfBCk"
      },
      "execution_count": 3,
      "outputs": []
    },
    {
      "cell_type": "code",
      "source": [
        "def review_to_wordlist(review, remove_stopwords=True):\n",
        "    # Clean the text, with the option to remove stopwords.\n",
        "    \n",
        "    # Convert words to lower case and split them\n",
        "    words = review.lower().split()\n",
        "\n",
        "    # Optionally remove stop words (true by default)\n",
        "    if remove_stopwords:\n",
        "        stops = set(stopwords.words(\"english\"))\n",
        "        words = [w for w in words if not w in stops]\n",
        "    \n",
        "    review_text = \" \".join(words)\n",
        "\n",
        "    # Clean the text\n",
        "    review_text = re.sub(r\"[^A-Za-z0-9(),!.?\\'\\`]\", \" \", review_text)\n",
        "    review_text = re.sub(r\"\\'s\", \" 's \", review_text)\n",
        "    review_text = re.sub(r\"\\'ve\", \" 've \", review_text)\n",
        "    review_text = re.sub(r\"n\\'t\", \" 't \", review_text)\n",
        "    review_text = re.sub(r\"\\'re\", \" 're \", review_text)\n",
        "    review_text = re.sub(r\"\\'d\", \" 'd \", review_text)\n",
        "    review_text = re.sub(r\"\\'ll\", \" 'll \", review_text)\n",
        "    review_text = re.sub(r\",\", \" \", review_text)\n",
        "    review_text = re.sub(r\"\\.\", \" \", review_text)\n",
        "    review_text = re.sub(r\"!\", \" \", review_text)\n",
        "    review_text = re.sub(r\"\\(\", \" ( \", review_text)\n",
        "    review_text = re.sub(r\"\\)\", \" ) \", review_text)\n",
        "    review_text = re.sub(r\"\\?\", \" \", review_text)\n",
        "    review_text = re.sub(r\"\\s{2,}\", \" \", review_text)\n",
        "    \n",
        "    words = review_text.split()\n",
        "    \n",
        "    # Shorten words to their stems\n",
        "    stemmer = SnowballStemmer('english')\n",
        "    stemmed_words = [stemmer.stem(word) for word in words]\n",
        "    \n",
        "    review_text = \" \".join(stemmed_words)\n",
        "    \n",
        "    # Return a list of words\n",
        "    return(review_text)"
      ],
      "metadata": {
        "id": "XALEix7adwyj"
      },
      "execution_count": 4,
      "outputs": []
    },
    {
      "cell_type": "code",
      "source": [
        "def make_data(path):\n",
        "  veriler = []\n",
        "  pdfler = os.listdir(path)\n",
        "  for pdf in pdfler:\n",
        "    try:\n",
        "        veri= {\n",
        "            \"isim\":\"\",\n",
        "        }\n",
        "        veri.update({\"isim\" : pdf})\n",
        "        dosya = open(path+pdf,\"r\")\n",
        "        for metin in dosya:\n",
        "            veri.update({\"metin\":metin})\n",
        "        \n",
        "        dosya.close()\n",
        "        veriler.append(veri)\n",
        "    except:\n",
        "        print( \"hata\")\n",
        "  return veriler"
      ],
      "metadata": {
        "id": "hqJn5KJsiJD1"
      },
      "execution_count": 5,
      "outputs": []
    },
    {
      "cell_type": "code",
      "source": [
        "path_groundtruth = \"/content/drive/MyDrive/kodlamalar/okul_projesi/nlp/Dataset/groundturth.txt\"\n",
        "dosya = open(path_groundtruth,\"r\")\n",
        "sonuc = []\n",
        "for metin in dosya:\n",
        "  veri= {\n",
        "      \"isim\":\"\",\n",
        "      \"siralama\":[]\n",
        "  }\n",
        "  temp = metin.split(\".txt\")\n",
        "  veri.update({\"isim\":temp[0]+\".txt\"})\n",
        "  temp[1] = temp[1].split(\",\")\n",
        "  veri.update({\"siralama\":temp[1]})\n",
        "  sonuc.append(veri)\n",
        "dosya.close()\n",
        "groundtruth = sonuc"
      ],
      "metadata": {
        "id": "ZoyJ6gf3221D"
      },
      "execution_count": 43,
      "outputs": []
    },
    {
      "cell_type": "code",
      "source": [
        "path_manu= \"/content/drive/MyDrive/kodlamalar/okul_projesi/nlp/Dataset/manuscripts/\"\n",
        "path_revi= \"/content/drive/MyDrive/kodlamalar/okul_projesi/nlp/Dataset/reviewers/\"\n",
        "\n",
        "manuscripts_veriler = make_data(path_manu)\n",
        "revievers_veriler = make_data(path_revi)\n"
      ],
      "metadata": {
        "id": "F5fZRFLdd_Un"
      },
      "execution_count": 7,
      "outputs": []
    },
    {
      "cell_type": "code",
      "source": [
        "metin = manuscripts_veriler[0][\"metin\"]\n",
        "print(metin)\n",
        "metin = review_to_wordlist(metin,True)"
      ],
      "metadata": {
        "colab": {
          "base_uri": "https://localhost:8080/"
        },
        "id": "uYRJv6a6efBj",
        "outputId": "9ea52470-abfd-4a4a-be2c-047552d97343"
      },
      "execution_count": 8,
      "outputs": [
        {
          "output_type": "stream",
          "name": "stdout",
          "text": [
            "massless and massive higher spins from anti-de sitter space waveguide higgs mechanism to massive higher-spin gauge fields is an outstanding openproblem. we investigate this issue in the context of kaluza-kleincompactification. starting from a free massless higher-spin field in$(d+2)$-dimensional anti-de sitter space and compactifying over a finiteangular wedge, we obtain an infinite tower of heavy, light and masslesshigher-spin fields in $(d+1)$-dimensional anti-de sitter space. all massivehigher-spin fields are described gauge invariantly in terms of st\\\"ueckelbergfields. the spectrum depends on the boundary conditions imposed at both ends ofthe wedges. we obseved that higher-derivative boundary condition is inevitablefor spin greater than three. for some higher-derivative boundary conditions,equivalently, spectrum-dependent boundary conditions, we get a non-unitaryrepresentation of partially-massless higher-spin fields of varying depth. wepresent intuitive picture which higher-derivative boundary conditions yieldnon-unitary system in terms of boundary action. we argue that isotropiclifshitz interfaces in $o(n)$ heisenberg magnet or $o(n)$ gross-neveu modelprovides the holographic dual conformal field theory and propose experimentaltest of (inverse) higgs mechanism for massive and partially masslesshigher-spin fields.\n"
          ]
        }
      ]
    },
    {
      "cell_type": "code",
      "source": [
        "print(metin)"
      ],
      "metadata": {
        "colab": {
          "base_uri": "https://localhost:8080/"
        },
        "id": "W0LKHVj9ewGb",
        "outputId": "3a6fda1e-5d5d-471a-9587-d7c34d85e71d"
      },
      "execution_count": 9,
      "outputs": [
        {
          "output_type": "stream",
          "name": "stdout",
          "text": [
            "massless massiv higher spin anti de sitter space waveguid higg mechan massiv higher spin gaug field outstand openproblem investig issu context kaluza kleincompactif start free massless higher spin field in ( d 2 ) dimension anti de sitter space compactifi finiteangular wedg obtain infinit tower heavi light masslesshigh spin field ( d 1 ) dimension anti de sitter space massivehigh spin field describ gaug invari term st ueckelbergfield spectrum depend boundari condit impos end ofth wedg obsev higher deriv boundari condit inevitablefor spin greater three higher deriv boundari condit equival spectrum depend boundari condit get non unitaryrepresent partial massless higher spin field vari depth wepres intuit pictur higher deriv boundari condit yieldnon unitari system term boundari action argu isotropiclifshitz interfac o ( n ) heisenberg magnet o ( n ) gross neveu modelprovid holograph dual conform field theori propos experimentaltest ( invers ) higg mechan massiv partial masslesshigh spin field\n"
          ]
        }
      ]
    },
    {
      "cell_type": "code",
      "source": [
        "\n",
        "for i in range(len(manuscripts_veriler)):\n",
        "  metin = manuscripts_veriler[i][\"metin\"]\n",
        "  metin = review_to_wordlist(metin,True)\n",
        "  manuscripts_veriler[i].update({\"metin\":metin})"
      ],
      "metadata": {
        "id": "cayiipebgl6u"
      },
      "execution_count": 10,
      "outputs": []
    },
    {
      "cell_type": "code",
      "source": [
        "for i in range(len(revievers_veriler)):\n",
        "  metin = revievers_veriler[i][\"metin\"]\n",
        "  metin = review_to_wordlist(metin,True)\n",
        "  revievers_veriler[i].update({\"metin\":metin})"
      ],
      "metadata": {
        "id": "7dakaiwvjMnc"
      },
      "execution_count": 11,
      "outputs": []
    },
    {
      "cell_type": "code",
      "source": [
        "vectorizer = TfidfVectorizer()"
      ],
      "metadata": {
        "id": "kV3T0ZGjlHpf"
      },
      "execution_count": 12,
      "outputs": []
    },
    {
      "cell_type": "code",
      "source": [
        "def cosine_sim(text1, reviwers):\n",
        "    score = []\n",
        "    for i in range(len(reviwers)):\n",
        "      dic = {\n",
        "          \"isim\":\"\",\n",
        "          \"result\":0\n",
        "      }\n",
        "      text2 = reviwers[i][\"metin\"]\n",
        "      tfidf = vectorizer.fit_transform([text1, text2])\n",
        "      deger = ((tfidf * tfidf.T).A)[0,1]\n",
        "      dic.update({\"isim\":reviwers[i][\"isim\"]})\n",
        "      dic.update({\"result\":deger})\n",
        "      score.append(dic)\n",
        "    return score"
      ],
      "metadata": {
        "id": "6yoELh9BjpPp"
      },
      "execution_count": 13,
      "outputs": []
    },
    {
      "cell_type": "code",
      "source": [
        "len(manuscripts_veriler)"
      ],
      "metadata": {
        "colab": {
          "base_uri": "https://localhost:8080/"
        },
        "id": "ROuaCgbPxdCx",
        "outputId": "fa2d0b6d-4e86-4838-e1a6-1f63da7d14de"
      },
      "execution_count": 14,
      "outputs": [
        {
          "output_type": "execute_result",
          "data": {
            "text/plain": [
              "705"
            ]
          },
          "metadata": {},
          "execution_count": 14
        }
      ]
    },
    {
      "cell_type": "code",
      "source": [
        "Tfidf_scores_deneme = []\n",
        "for i in range(10):\n",
        "    veri={\n",
        "        \"isim\":\"\",\n",
        "        \"karsilastirma_sonucları\":[]\n",
        "    }\n",
        "    score = cosine_sim(manuscripts_veriler[i][\"metin\"], revievers_veriler)\n",
        "    print(i , \" \", manuscripts_veriler[i][\"isim\"])\n",
        "    veri.update({\"isim\":manuscripts_veriler[i][\"isim\"]})\n",
        "    veri.update({\"karsilastirma_sonucları\":score})\n",
        "    Tfidf_scores_deneme.append(veri)"
      ],
      "metadata": {
        "colab": {
          "base_uri": "https://localhost:8080/"
        },
        "id": "-S-A7aGqzft3",
        "outputId": "415e81a5-3518-4e86-c183-de2a0386341d"
      },
      "execution_count": 15,
      "outputs": [
        {
          "output_type": "stream",
          "name": "stdout",
          "text": [
            "0   1605.06526.txt\n",
            "1   1607.05360.txt\n",
            "2   1403.7583.txt\n",
            "3   1511.07071.txt\n",
            "4   1603.06997.txt\n",
            "5   1604.07571.txt\n",
            "6   1402.5070.txt\n",
            "7   1605.08502.txt\n",
            "8   1508.01016.txt\n",
            "9   1605.02590 (1).txt\n"
          ]
        }
      ]
    },
    {
      "cell_type": "code",
      "source": [
        "makale = Tfidf_scores_deneme[0][\"isim\"]\n",
        "karsilastirma_sonucları = Tfidf_scores_deneme[0][\"karsilastirma_sonucları\"]\n",
        "db = pd.DataFrame(karsilastirma_sonucları)"
      ],
      "metadata": {
        "id": "J2qR5G3R0TIw"
      },
      "execution_count": 16,
      "outputs": []
    },
    {
      "cell_type": "code",
      "source": [
        "#help(db.sort_values)"
      ],
      "metadata": {
        "id": "aMgEuGgq1rs3"
      },
      "execution_count": 17,
      "outputs": []
    },
    {
      "cell_type": "code",
      "source": [
        "db = db.sort_values('result',ascending=False ,ignore_index = True )"
      ],
      "metadata": {
        "id": "FUgi_Ncn1ePV"
      },
      "execution_count": 18,
      "outputs": []
    },
    {
      "cell_type": "code",
      "source": [
        "print(makale)\n",
        "print(db.head(10))"
      ],
      "metadata": {
        "colab": {
          "base_uri": "https://localhost:8080/"
        },
        "id": "fvn3wiqL05o7",
        "outputId": "ff1c77a1-059d-407b-e5d3-e853b3992bb6"
      },
      "execution_count": 19,
      "outputs": [
        {
          "output_type": "stream",
          "name": "stdout",
          "text": [
            "1605.06526.txt\n",
            "                   isim    result\n",
            "0         wu, m. w..txt  0.207700\n",
            "1     kang, hyesung.txt  0.166137\n",
            "2  wolfe, arthur m..txt  0.120323\n",
            "3       ryu, dongsu.txt  0.119028\n",
            "4      jones, t. w..txt  0.119028\n",
            "5       frank, adam.txt  0.119028\n",
            "6      beck, rainer.txt  0.115232\n",
            "7      ekers, r. d..txt  0.109985\n",
            "8      dolag, klaus.txt  0.107582\n",
            "9      matsuura, m..txt  0.105843\n"
          ]
        }
      ]
    },
    {
      "cell_type": "code",
      "source": [
        "groundtruth = pd.DataFrame(groundtruth)"
      ],
      "metadata": {
        "id": "ntzca-h75FMc"
      },
      "execution_count": 45,
      "outputs": []
    },
    {
      "cell_type": "code",
      "source": [
        "groundtruth[0:1]"
      ],
      "metadata": {
        "colab": {
          "base_uri": "https://localhost:8080/",
          "height": 81
        },
        "id": "Dg2d6_gB137j",
        "outputId": "0a3c63aa-f782-49e2-f0b0-5be7988bfc07"
      },
      "execution_count": 67,
      "outputs": [
        {
          "output_type": "execute_result",
          "data": {
            "text/plain": [
              "                 isim                                           siralama\n",
              "0  hep-th;0001048.txt  [\\tboyanovsky,  d.\\tsola,  joan\\thu,  b. l.\\tn..."
            ],
            "text/html": [
              "\n",
              "  <div id=\"df-8df5b51f-d876-4476-aa17-a661000d5f52\">\n",
              "    <div class=\"colab-df-container\">\n",
              "      <div>\n",
              "<style scoped>\n",
              "    .dataframe tbody tr th:only-of-type {\n",
              "        vertical-align: middle;\n",
              "    }\n",
              "\n",
              "    .dataframe tbody tr th {\n",
              "        vertical-align: top;\n",
              "    }\n",
              "\n",
              "    .dataframe thead th {\n",
              "        text-align: right;\n",
              "    }\n",
              "</style>\n",
              "<table border=\"1\" class=\"dataframe\">\n",
              "  <thead>\n",
              "    <tr style=\"text-align: right;\">\n",
              "      <th></th>\n",
              "      <th>isim</th>\n",
              "      <th>siralama</th>\n",
              "    </tr>\n",
              "  </thead>\n",
              "  <tbody>\n",
              "    <tr>\n",
              "      <th>0</th>\n",
              "      <td>hep-th;0001048.txt</td>\n",
              "      <td>[\\tboyanovsky,  d.\\tsola,  joan\\thu,  b. l.\\tn...</td>\n",
              "    </tr>\n",
              "  </tbody>\n",
              "</table>\n",
              "</div>\n",
              "      <button class=\"colab-df-convert\" onclick=\"convertToInteractive('df-8df5b51f-d876-4476-aa17-a661000d5f52')\"\n",
              "              title=\"Convert this dataframe to an interactive table.\"\n",
              "              style=\"display:none;\">\n",
              "        \n",
              "  <svg xmlns=\"http://www.w3.org/2000/svg\" height=\"24px\"viewBox=\"0 0 24 24\"\n",
              "       width=\"24px\">\n",
              "    <path d=\"M0 0h24v24H0V0z\" fill=\"none\"/>\n",
              "    <path d=\"M18.56 5.44l.94 2.06.94-2.06 2.06-.94-2.06-.94-.94-2.06-.94 2.06-2.06.94zm-11 1L8.5 8.5l.94-2.06 2.06-.94-2.06-.94L8.5 2.5l-.94 2.06-2.06.94zm10 10l.94 2.06.94-2.06 2.06-.94-2.06-.94-.94-2.06-.94 2.06-2.06.94z\"/><path d=\"M17.41 7.96l-1.37-1.37c-.4-.4-.92-.59-1.43-.59-.52 0-1.04.2-1.43.59L10.3 9.45l-7.72 7.72c-.78.78-.78 2.05 0 2.83L4 21.41c.39.39.9.59 1.41.59.51 0 1.02-.2 1.41-.59l7.78-7.78 2.81-2.81c.8-.78.8-2.07 0-2.86zM5.41 20L4 18.59l7.72-7.72 1.47 1.35L5.41 20z\"/>\n",
              "  </svg>\n",
              "      </button>\n",
              "      \n",
              "  <style>\n",
              "    .colab-df-container {\n",
              "      display:flex;\n",
              "      flex-wrap:wrap;\n",
              "      gap: 12px;\n",
              "    }\n",
              "\n",
              "    .colab-df-convert {\n",
              "      background-color: #E8F0FE;\n",
              "      border: none;\n",
              "      border-radius: 50%;\n",
              "      cursor: pointer;\n",
              "      display: none;\n",
              "      fill: #1967D2;\n",
              "      height: 32px;\n",
              "      padding: 0 0 0 0;\n",
              "      width: 32px;\n",
              "    }\n",
              "\n",
              "    .colab-df-convert:hover {\n",
              "      background-color: #E2EBFA;\n",
              "      box-shadow: 0px 1px 2px rgba(60, 64, 67, 0.3), 0px 1px 3px 1px rgba(60, 64, 67, 0.15);\n",
              "      fill: #174EA6;\n",
              "    }\n",
              "\n",
              "    [theme=dark] .colab-df-convert {\n",
              "      background-color: #3B4455;\n",
              "      fill: #D2E3FC;\n",
              "    }\n",
              "\n",
              "    [theme=dark] .colab-df-convert:hover {\n",
              "      background-color: #434B5C;\n",
              "      box-shadow: 0px 1px 3px 1px rgba(0, 0, 0, 0.15);\n",
              "      filter: drop-shadow(0px 1px 2px rgba(0, 0, 0, 0.3));\n",
              "      fill: #FFFFFF;\n",
              "    }\n",
              "  </style>\n",
              "\n",
              "      <script>\n",
              "        const buttonEl =\n",
              "          document.querySelector('#df-8df5b51f-d876-4476-aa17-a661000d5f52 button.colab-df-convert');\n",
              "        buttonEl.style.display =\n",
              "          google.colab.kernel.accessAllowed ? 'block' : 'none';\n",
              "\n",
              "        async function convertToInteractive(key) {\n",
              "          const element = document.querySelector('#df-8df5b51f-d876-4476-aa17-a661000d5f52');\n",
              "          const dataTable =\n",
              "            await google.colab.kernel.invokeFunction('convertToInteractive',\n",
              "                                                     [key], {});\n",
              "          if (!dataTable) return;\n",
              "\n",
              "          const docLinkHtml = 'Like what you see? Visit the ' +\n",
              "            '<a target=\"_blank\" href=https://colab.research.google.com/notebooks/data_table.ipynb>data table notebook</a>'\n",
              "            + ' to learn more about interactive tables.';\n",
              "          element.innerHTML = '';\n",
              "          dataTable['output_type'] = 'display_data';\n",
              "          await google.colab.output.renderOutput(dataTable, element);\n",
              "          const docLink = document.createElement('div');\n",
              "          docLink.innerHTML = docLinkHtml;\n",
              "          element.appendChild(docLink);\n",
              "        }\n",
              "      </script>\n",
              "    </div>\n",
              "  </div>\n",
              "  "
            ]
          },
          "metadata": {},
          "execution_count": 67
        }
      ]
    },
    {
      "cell_type": "code",
      "source": [
        "Tfidf_scores = []\n",
        "for i in range(len(manuscripts_veriler)):\n",
        "    veri={\n",
        "        \"isim\":\"\",\n",
        "        \"karsilastirma_sonucları\":[]\n",
        "    }\n",
        "    score = cosine_sim(manuscripts_veriler[i][\"metin\"], revievers_veriler)\n",
        "    print(i , \" \", manuscripts_veriler[i][\"isim\"])\n",
        "    veri.update({\"isim\":manuscripts_veriler[i][\"isim\"]})\n",
        "    veri.update({\"karsilastirma_sonucları\":score})\n",
        "    Tfidf_scores.append(veri)\n",
        "    "
      ],
      "metadata": {
        "id": "jNAammQnkBev"
      },
      "execution_count": null,
      "outputs": []
    }
  ]
}